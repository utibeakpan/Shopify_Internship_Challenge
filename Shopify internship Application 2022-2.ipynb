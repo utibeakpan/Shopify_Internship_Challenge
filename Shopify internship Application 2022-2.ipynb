{
 "cells": [
  {
   "cell_type": "code",
   "execution_count": 29,
   "id": "ab846e41",
   "metadata": {},
   "outputs": [],
   "source": [
    "#importing the libraries needed\n",
    "import pandas as pd\n",
    "import matplotlib.pyplot as plt\n",
    "import matplotlib as mpl\n",
    "import numpy as np\n",
    "mpl.rcParams['figure.figsize']=(20,10)"
   ]
  },
  {
   "cell_type": "code",
   "execution_count": 30,
   "id": "e9f90998",
   "metadata": {},
   "outputs": [
    {
     "data": {
      "text/html": [
       "<div>\n",
       "<style scoped>\n",
       "    .dataframe tbody tr th:only-of-type {\n",
       "        vertical-align: middle;\n",
       "    }\n",
       "\n",
       "    .dataframe tbody tr th {\n",
       "        vertical-align: top;\n",
       "    }\n",
       "\n",
       "    .dataframe thead th {\n",
       "        text-align: right;\n",
       "    }\n",
       "</style>\n",
       "<table border=\"1\" class=\"dataframe\">\n",
       "  <thead>\n",
       "    <tr style=\"text-align: right;\">\n",
       "      <th></th>\n",
       "      <th>order_id</th>\n",
       "      <th>shop_id</th>\n",
       "      <th>user_id</th>\n",
       "      <th>order_amount</th>\n",
       "      <th>total_items</th>\n",
       "      <th>payment_method</th>\n",
       "      <th>created_at</th>\n",
       "    </tr>\n",
       "  </thead>\n",
       "  <tbody>\n",
       "    <tr>\n",
       "      <th>0</th>\n",
       "      <td>1</td>\n",
       "      <td>53</td>\n",
       "      <td>746</td>\n",
       "      <td>224</td>\n",
       "      <td>2</td>\n",
       "      <td>cash</td>\n",
       "      <td>2017-03-13 12:36:56</td>\n",
       "    </tr>\n",
       "    <tr>\n",
       "      <th>1</th>\n",
       "      <td>2</td>\n",
       "      <td>92</td>\n",
       "      <td>925</td>\n",
       "      <td>90</td>\n",
       "      <td>1</td>\n",
       "      <td>cash</td>\n",
       "      <td>2017-03-03 17:38:52</td>\n",
       "    </tr>\n",
       "    <tr>\n",
       "      <th>2</th>\n",
       "      <td>3</td>\n",
       "      <td>44</td>\n",
       "      <td>861</td>\n",
       "      <td>144</td>\n",
       "      <td>1</td>\n",
       "      <td>cash</td>\n",
       "      <td>2017-03-14 4:23:56</td>\n",
       "    </tr>\n",
       "    <tr>\n",
       "      <th>3</th>\n",
       "      <td>4</td>\n",
       "      <td>18</td>\n",
       "      <td>935</td>\n",
       "      <td>156</td>\n",
       "      <td>1</td>\n",
       "      <td>credit_card</td>\n",
       "      <td>2017-03-26 12:43:37</td>\n",
       "    </tr>\n",
       "    <tr>\n",
       "      <th>4</th>\n",
       "      <td>5</td>\n",
       "      <td>18</td>\n",
       "      <td>883</td>\n",
       "      <td>156</td>\n",
       "      <td>1</td>\n",
       "      <td>credit_card</td>\n",
       "      <td>2017-03-01 4:35:11</td>\n",
       "    </tr>\n",
       "  </tbody>\n",
       "</table>\n",
       "</div>"
      ],
      "text/plain": [
       "   order_id  shop_id  user_id  order_amount  total_items payment_method  \\\n",
       "0         1       53      746           224            2           cash   \n",
       "1         2       92      925            90            1           cash   \n",
       "2         3       44      861           144            1           cash   \n",
       "3         4       18      935           156            1    credit_card   \n",
       "4         5       18      883           156            1    credit_card   \n",
       "\n",
       "            created_at  \n",
       "0  2017-03-13 12:36:56  \n",
       "1  2017-03-03 17:38:52  \n",
       "2   2017-03-14 4:23:56  \n",
       "3  2017-03-26 12:43:37  \n",
       "4   2017-03-01 4:35:11  "
      ]
     },
     "execution_count": 30,
     "metadata": {},
     "output_type": "execute_result"
    }
   ],
   "source": [
    "#reading the csv file\n",
    "df=pd.read_csv('2022 Shopify Internship Data.csv')\n",
    "df.head()"
   ]
  },
  {
   "cell_type": "code",
   "execution_count": 31,
   "id": "81d27e5a",
   "metadata": {},
   "outputs": [
    {
     "name": "stdout",
     "output_type": "stream",
     "text": [
      "<class 'pandas.core.frame.DataFrame'>\n",
      "RangeIndex: 5000 entries, 0 to 4999\n",
      "Data columns (total 7 columns):\n",
      " #   Column          Non-Null Count  Dtype \n",
      "---  ------          --------------  ----- \n",
      " 0   order_id        5000 non-null   int64 \n",
      " 1   shop_id         5000 non-null   int64 \n",
      " 2   user_id         5000 non-null   int64 \n",
      " 3   order_amount    5000 non-null   int64 \n",
      " 4   total_items     5000 non-null   int64 \n",
      " 5   payment_method  5000 non-null   object\n",
      " 6   created_at      5000 non-null   object\n",
      "dtypes: int64(5), object(2)\n",
      "memory usage: 273.6+ KB\n",
      "None\n",
      "order_id          0\n",
      "shop_id           0\n",
      "user_id           0\n",
      "order_amount      0\n",
      "total_items       0\n",
      "payment_method    0\n",
      "created_at        0\n",
      "dtype: int64\n"
     ]
    }
   ],
   "source": [
    "#checking for nulls and data type\n",
    "print(df.info())\n",
    "print(df.isnull().sum())"
   ]
  },
  {
   "cell_type": "markdown",
   "id": "ce732672",
   "metadata": {},
   "source": [
    "After the first exploration of the data, there are no null values and there are 7 columns. \n",
    "Some columns are categorical and others are quantitative. The next step is to plot out the latter and see the ouliers in the data.I will also remove the order id column from this box plot. I chose a box plot because it is easier to see the outliers at a glance. However, outliers are not always a bad thing. It all depends on the context of why we are analyzing the data. \n",
    "\n",
    "For this analysis, outliers can skew the average order value and make it very small or very large because the mean of a data set is very sensitive to the very large or very small numbers."
   ]
  },
  {
   "cell_type": "code",
   "execution_count": 32,
   "id": "1df8f4db",
   "metadata": {},
   "outputs": [
    {
     "data": {
      "text/plain": [
       "Text(0.5, 1.0, 'Box plot showing the dataset')"
      ]
     },
     "execution_count": 32,
     "metadata": {},
     "output_type": "execute_result"
    },
    {
     "data": {
      "image/png": "[encoded data removed]",
      "text/plain": [
       "<Figure size 1440x720 with 1 Axes>"
      ]
     },
     "metadata": {
      "needs_background": "light"
     },
     "output_type": "display_data"
    }
   ],
   "source": [
    "#visualizing the data set\n",
    "col1=df.select_dtypes(np.number)\n",
    "col1= col1.drop(['order_id'], axis=1)\n",
    "col1.plot.box()\n",
    "plt.title(\"Box plot showing the dataset\")\n"
   ]
  },
  {
   "cell_type": "markdown",
   "id": "8eb0fe43",
   "metadata": {},
   "source": [
    "Wow, looking at this box plot, there is a very large order_amount for some of the orders. \n",
    "This means that the average order value including these order_ids will be very large.\n",
    "For a more accurate value for the average order value, we need to consider removing the outliers. \n",
    "\n",
    "The first step is to figure out what percent of the order_amount o is in the $70,000 range. From the description of this data set, these stores sell sneakers that are pretty affordable so the reason why the order_amount would be very high is if the total number of items in an order is high.\n",
    "\n",
    "Before that, I want to understand where the '$3145.13' comes from that was included in the description of this exercise."
   ]
  },
  {
   "cell_type": "markdown",
   "id": "43847c9e",
   "metadata": {},
   "source": [
    "# Q1: Where does the 3145.13 come from?"
   ]
  },
  {
   "cell_type": "code",
   "execution_count": 33,
   "id": "f8521e09",
   "metadata": {},
   "outputs": [
    {
     "data": {
      "text/plain": [
       "count      5000.000000\n",
       "mean       3145.128000\n",
       "std       41282.539349\n",
       "min          90.000000\n",
       "25%         163.000000\n",
       "50%         284.000000\n",
       "75%         390.000000\n",
       "max      704000.000000\n",
       "Name: order_amount, dtype: float64"
      ]
     },
     "execution_count": 33,
     "metadata": {},
     "output_type": "execute_result"
    }
   ],
   "source": [
    "df.order_amount.describe()"
   ]
  },
  {
   "cell_type": "markdown",
   "id": "ed9a4987",
   "metadata": {},
   "source": [
    "The 3145.13 comes from the mean of \"order_amount\" column. This amount is very high so there might be some outliers.\n",
    "\n",
    "We are going to understand the data set more by viewing the total number of items for different orders. "
   ]
  },
  {
   "cell_type": "code",
   "execution_count": 34,
   "id": "84f32af3",
   "metadata": {},
   "outputs": [
    {
     "data": {
      "text/plain": [
       "Text(0, 0.5, 'Number of orders')"
      ]
     },
     "execution_count": 34,
     "metadata": {},
     "output_type": "execute_result"
    },
    {
     "data": {
      "image/png": "[encoded data removed]",
      "text/plain": [
       "<Figure size 1440x720 with 1 Axes>"
      ]
     },
     "metadata": {
      "needs_background": "light"
     },
     "output_type": "display_data"
    }
   ],
   "source": [
    "df[\"total_items\"].value_counts().plot(kind='bar')\n",
    "plt.title(\"Number of items in an order vs. Number of orders with the item number\")\n",
    "plt.xlabel(\"Number of items in an order\")\n",
    "plt.ylabel(\"Number of orders\")"
   ]
  },
  {
   "cell_type": "markdown",
   "id": "fea849d1",
   "metadata": {},
   "source": [
    "Let's confirm if the high order_amount(70,400) corresponds to the order_ids with 2000 items"
   ]
  },
  {
   "cell_type": "code",
   "execution_count": 35,
   "id": "6904ce06",
   "metadata": {},
   "outputs": [
    {
     "name": "stdout",
     "output_type": "stream",
     "text": [
      "      order_id  shop_id  user_id  order_amount  total_items payment_method  \\\n",
      "15          16       42      607        704000         2000    credit_card   \n",
      "2297      2298       42      607        704000         2000    credit_card   \n",
      "4868      4869       42      607        704000         2000    credit_card   \n",
      "4646      4647       42      607        704000         2000    credit_card   \n",
      "4056      4057       42      607        704000         2000    credit_card   \n",
      "3332      3333       42      607        704000         2000    credit_card   \n",
      "2969      2970       42      607        704000         2000    credit_card   \n",
      "2835      2836       42      607        704000         2000    credit_card   \n",
      "2153      2154       42      607        704000         2000    credit_card   \n",
      "60          61       42      607        704000         2000    credit_card   \n",
      "1602      1603       42      607        704000         2000    credit_card   \n",
      "1562      1563       42      607        704000         2000    credit_card   \n",
      "1436      1437       42      607        704000         2000    credit_card   \n",
      "1362      1363       42      607        704000         2000    credit_card   \n",
      "1104      1105       42      607        704000         2000    credit_card   \n",
      "520        521       42      607        704000         2000    credit_card   \n",
      "4882      4883       42      607        704000         2000    credit_card   \n",
      "\n",
      "              created_at  \n",
      "15    2017-03-07 4:00:00  \n",
      "2297  2017-03-07 4:00:00  \n",
      "4868  2017-03-22 4:00:00  \n",
      "4646  2017-03-02 4:00:00  \n",
      "4056  2017-03-28 4:00:00  \n",
      "3332  2017-03-24 4:00:00  \n",
      "2969  2017-03-28 4:00:00  \n",
      "2835  2017-03-28 4:00:00  \n",
      "2153  2017-03-12 4:00:00  \n",
      "60    2017-03-04 4:00:00  \n",
      "1602  2017-03-17 4:00:00  \n",
      "1562  2017-03-19 4:00:00  \n",
      "1436  2017-03-11 4:00:00  \n",
      "1362  2017-03-15 4:00:00  \n",
      "1104  2017-03-24 4:00:00  \n",
      "520   2017-03-02 4:00:00  \n",
      "4882  2017-03-25 4:00:00  \n",
      "the percentage of data that has the maximum high order amount (704000) and 2000 orders is\n",
      "0.33999999999999997\n"
     ]
    }
   ],
   "source": [
    "condition1= df['total_items']== 2000\n",
    "High_orderamount=df[condition1]\n",
    "print(High_orderamount.sort_values(by='order_amount', ascending=False))\n",
    "High_orderamountpercent=len(High_orderamount)/len(df) *100\n",
    "print(\"the percentage of data that has the maximum high order amount (704000) and 2000 orders is\")\n",
    "print ( High_orderamountpercent)\n"
   ]
  },
  {
   "cell_type": "markdown",
   "id": "4365505f",
   "metadata": {},
   "source": [
    "A better way to calculate the average order value is to consider two things. \n",
    "1. The unit price of sneakers in each shop\n",
    "2. The maximum/unusual no of orders in each store.\n",
    "\n",
    "The unit price plays an important role here because, to get better insights and make a well informed decision about the average order value, it is important to confirm if all the stores are selling in the same price range. Some of these decisions could be tailored towards shippingor marketing templates for brands. This can also be useful if you are looking to roll out any new shopify features that could impact different types of brands (whole sale vs retail brands, for instance.) \n",
    "\n",
    "The second one is the most important because a high no of items will increase the order_amount. From the initial exploratory analysis, the orders that have 70,400 order_amount have to be analyzed differently.\n",
    "\n",
    "For the record, I do not think that they should be removed from the analysis because this data could bring valuable insights. However, we can use the MECE (mutually Exclusive And Collectively Exhaustive) method to get actionable insights from this data set.\n",
    "\n"
   ]
  },
  {
   "cell_type": "code",
   "execution_count": 36,
   "id": "cdf90825",
   "metadata": {},
   "outputs": [
    {
     "data": {
      "text/plain": [
       "Text(0, 0.5, 'Unit Price')"
      ]
     },
     "execution_count": 36,
     "metadata": {},
     "output_type": "execute_result"
    },
    {
     "data": {
      "image/png": "[encoded data removed]",
      "text/plain": [
       "<Figure size 1440x720 with 1 Axes>"
      ]
     },
     "metadata": {
      "needs_background": "light"
     },
     "output_type": "display_data"
    }
   ],
   "source": [
    "df['Unit_Price']=df['order_amount']/df['total_items']\n",
    "df['Unit_Price'].plot.box()\n",
    "plt.title(\"Box Plot of unit price column\")\n",
    "plt.xlabel(\"Column Name\")\n",
    "plt.ylabel(\"Unit Price\")\n",
    "\n"
   ]
  },
  {
   "cell_type": "code",
   "execution_count": 37,
   "id": "1a8c65b6",
   "metadata": {},
   "outputs": [
    {
     "data": {
      "text/plain": [
       "(array([4954.,    0.,    0.,    0.,    0.,    0.,    0.,    0.,    0.,\n",
       "          46.]),\n",
       " array([   90. ,  2653.5,  5217. ,  7780.5, 10344. , 12907.5, 15471. ,\n",
       "        18034.5, 20598. , 23161.5, 25725. ]),\n",
       " <BarContainer object of 10 artists>)"
      ]
     },
     "execution_count": 37,
     "metadata": {},
     "output_type": "execute_result"
    },
    {
     "data": {
      "image/png": "[encoded data removed]",
      "text/plain": [
       "<Figure size 1440x720 with 1 Axes>"
      ]
     },
     "metadata": {
      "needs_background": "light"
     },
     "output_type": "display_data"
    }
   ],
   "source": [
    "plt.hist(x=df['Unit_Price'], density=False)\n"
   ]
  },
  {
   "cell_type": "code",
   "execution_count": 38,
   "id": "61801edc",
   "metadata": {},
   "outputs": [
    {
     "data": {
      "text/plain": [
       "Unit_Price  shop_id\n",
       "90.0        92         42\n",
       "94.0        2          55\n",
       "101.0       32         42\n",
       "111.0       100        40\n",
       "112.0       7          56\n",
       "                       ..\n",
       "195.0       99         54\n",
       "196.0       89         61\n",
       "201.0       12         53\n",
       "352.0       42         51\n",
       "25725.0     78         46\n",
       "Length: 100, dtype: int64"
      ]
     },
     "execution_count": 38,
     "metadata": {},
     "output_type": "execute_result"
    }
   ],
   "source": [
    "df_unitprice=df.groupby(['Unit_Price','shop_id']).size()\n",
    "df_unitprice"
   ]
  },
  {
   "cell_type": "markdown",
   "id": "d3b9c28f",
   "metadata": {},
   "source": [
    "you can see that there is one unit price that is completely different from the rest in both graphs.\n",
    "25725.0 is a very high unit price for 46 orders in shop 78 and this value will skew the average order value as well because \n",
    "total revenue is unit price x no of items. It is also interesting that the store 78 is not the same store with the highest total amount per order."
   ]
  },
  {
   "cell_type": "code",
   "execution_count": 39,
   "id": "ef119377",
   "metadata": {},
   "outputs": [
    {
     "data": {
      "text/plain": [
       "count     5000.000000\n",
       "mean       387.742800\n",
       "std       2441.963725\n",
       "min         90.000000\n",
       "25%        133.000000\n",
       "50%        153.000000\n",
       "75%        169.000000\n",
       "max      25725.000000\n",
       "Name: Unit_Price, dtype: float64"
      ]
     },
     "execution_count": 39,
     "metadata": {},
     "output_type": "execute_result"
    }
   ],
   "source": [
    "df['Unit_Price'].describe()"
   ]
  },
  {
   "cell_type": "markdown",
   "id": "7955af22",
   "metadata": {},
   "source": [
    "The standard deviation is very high. Also, the difference between the minimum and maximum values is large."
   ]
  },
  {
   "cell_type": "markdown",
   "id": "68baa660",
   "metadata": {},
   "source": [
    "Using the IQR , we can continue the analysis of the new data set and reduce the standard deviation. \n",
    "We see that store 46 and 78 are different from other stores\n",
    "because of the high unit price and the large volume of orders. "
   ]
  },
  {
   "cell_type": "code",
   "execution_count": 40,
   "id": "5edbc820",
   "metadata": {},
   "outputs": [
    {
     "name": "stdout",
     "output_type": "stream",
     "text": [
      "the percentage of data left after removing the shops with high unit price and high number of items is\n",
      "98.74000000000001\n"
     ]
    }
   ],
   "source": [
    "condition1=df['Unit_Price'] != 25725\n",
    "condition2=df['order_amount']!=704000\n",
    "df_1=df[condition1 & condition2]\n",
    "print(\"the percentage of data left after removing the shops with high unit price and high number of items is\")\n",
    "print(len(df_1)/len(df)*100)"
   ]
  },
  {
   "cell_type": "code",
   "execution_count": 41,
   "id": "182f050d",
   "metadata": {},
   "outputs": [
    {
     "data": {
      "text/plain": [
       "count    4937.000000\n",
       "mean      151.788536\n",
       "std        29.034215\n",
       "min        90.000000\n",
       "25%       132.000000\n",
       "50%       153.000000\n",
       "75%       166.000000\n",
       "max       352.000000\n",
       "Name: Unit_Price, dtype: float64"
      ]
     },
     "execution_count": 41,
     "metadata": {},
     "output_type": "execute_result"
    }
   ],
   "source": [
    "df_1['Unit_Price'].describe()"
   ]
  },
  {
   "cell_type": "code",
   "execution_count": 42,
   "id": "38742a73",
   "metadata": {},
   "outputs": [
    {
     "data": {
      "text/plain": [
       "count    4937.000000\n",
       "mean      302.580514\n",
       "std       160.804912\n",
       "min        90.000000\n",
       "25%       163.000000\n",
       "50%       284.000000\n",
       "75%       387.000000\n",
       "max      1760.000000\n",
       "Name: order_amount, dtype: float64"
      ]
     },
     "execution_count": 42,
     "metadata": {},
     "output_type": "execute_result"
    }
   ],
   "source": [
    "df_1['order_amount'].describe()"
   ]
  },
  {
   "cell_type": "code",
   "execution_count": 43,
   "id": "94bb3789",
   "metadata": {},
   "outputs": [
    {
     "data": {
      "text/plain": [
       "Text(0, 0.5, 'Value')"
      ]
     },
     "execution_count": 43,
     "metadata": {},
     "output_type": "execute_result"
    },
    {
     "data": {
      "image/png": "[encoded data removed]",
      "text/plain": [
       "<Figure size 1440x720 with 1 Axes>"
      ]
     },
     "metadata": {
      "needs_background": "light"
     },
     "output_type": "display_data"
    }
   ],
   "source": [
    "col2=df_1.select_dtypes(np.number).drop(['order_id','shop_id','user_id'],axis=1)\n",
    "col2.plot.box()\n",
    "plt.title(\"Box plot of data without store 46 and 78\")\n",
    "plt.xlabel(\"columns\")\n",
    "plt.ylabel(\"Value\")"
   ]
  },
  {
   "cell_type": "markdown",
   "id": "0a7bf082",
   "metadata": {},
   "source": [
    "We can still see some outliers in the order amount, unit_price and total items. \n",
    "The next step is to identify and analyze if those outliers need to be removed."
   ]
  },
  {
   "cell_type": "code",
   "execution_count": 25,
   "id": "856f3ab9",
   "metadata": {},
   "outputs": [
    {
     "name": "stdout",
     "output_type": "stream",
     "text": [
      "low boundary:\n",
      "order_amount   -173.0\n",
      "total_items      -2.0\n",
      "Unit_Price       81.0\n",
      "dtype: float64\n",
      "\n",
      "high_boundary:\n",
      "order_amount    723.0\n",
      "total_items       6.0\n",
      "Unit_Price      217.0\n",
      "dtype: float64\n",
      "\n",
      "Q3:\n",
      "order_amount    387.0\n",
      "total_items       3.0\n",
      "Unit_Price      166.0\n",
      "Name: 0.75, dtype: float64\n",
      "\n",
      "Q1:\n",
      "order_amount    163.0\n",
      "total_items       1.0\n",
      "Unit_Price      132.0\n",
      "Name: 0.25, dtype: float64\n",
      "\n",
      "IQR:\n",
      "order_amount    224.0\n",
      "total_items       2.0\n",
      "Unit_Price       34.0\n",
      "dtype: float64\n",
      "\n"
     ]
    },
    {
     "data": {
      "text/html": [
       "<div>\n",
       "<style scoped>\n",
       "    .dataframe tbody tr th:only-of-type {\n",
       "        vertical-align: middle;\n",
       "    }\n",
       "\n",
       "    .dataframe tbody tr th {\n",
       "        vertical-align: top;\n",
       "    }\n",
       "\n",
       "    .dataframe thead th {\n",
       "        text-align: right;\n",
       "    }\n",
       "</style>\n",
       "<table border=\"1\" class=\"dataframe\">\n",
       "  <thead>\n",
       "    <tr style=\"text-align: right;\">\n",
       "      <th></th>\n",
       "      <th>order_amount</th>\n",
       "      <th>total_items</th>\n",
       "      <th>Unit_Price</th>\n",
       "    </tr>\n",
       "  </thead>\n",
       "  <tbody>\n",
       "    <tr>\n",
       "      <th>count</th>\n",
       "      <td>4826.000000</td>\n",
       "      <td>4826.000000</td>\n",
       "      <td>4826.000000</td>\n",
       "    </tr>\n",
       "    <tr>\n",
       "      <th>mean</th>\n",
       "      <td>291.981765</td>\n",
       "      <td>1.950477</td>\n",
       "      <td>150.084542</td>\n",
       "    </tr>\n",
       "    <tr>\n",
       "      <th>std</th>\n",
       "      <td>142.650885</td>\n",
       "      <td>0.917889</td>\n",
       "      <td>23.792869</td>\n",
       "    </tr>\n",
       "    <tr>\n",
       "      <th>min</th>\n",
       "      <td>90.000000</td>\n",
       "      <td>1.000000</td>\n",
       "      <td>90.000000</td>\n",
       "    </tr>\n",
       "    <tr>\n",
       "      <th>25%</th>\n",
       "      <td>162.000000</td>\n",
       "      <td>1.000000</td>\n",
       "      <td>132.000000</td>\n",
       "    </tr>\n",
       "    <tr>\n",
       "      <th>50%</th>\n",
       "      <td>280.000000</td>\n",
       "      <td>2.000000</td>\n",
       "      <td>153.000000</td>\n",
       "    </tr>\n",
       "    <tr>\n",
       "      <th>75%</th>\n",
       "      <td>379.000000</td>\n",
       "      <td>3.000000</td>\n",
       "      <td>165.000000</td>\n",
       "    </tr>\n",
       "    <tr>\n",
       "      <th>max</th>\n",
       "      <td>712.000000</td>\n",
       "      <td>5.000000</td>\n",
       "      <td>201.000000</td>\n",
       "    </tr>\n",
       "  </tbody>\n",
       "</table>\n",
       "</div>"
      ],
      "text/plain": [
       "       order_amount  total_items   Unit_Price\n",
       "count   4826.000000  4826.000000  4826.000000\n",
       "mean     291.981765     1.950477   150.084542\n",
       "std      142.650885     0.917889    23.792869\n",
       "min       90.000000     1.000000    90.000000\n",
       "25%      162.000000     1.000000   132.000000\n",
       "50%      280.000000     2.000000   153.000000\n",
       "75%      379.000000     3.000000   165.000000\n",
       "max      712.000000     5.000000   201.000000"
      ]
     },
     "execution_count": 25,
     "metadata": {},
     "output_type": "execute_result"
    }
   ],
   "source": [
    "Q1 = col2.quantile(0.25)\n",
    "Q3 = col2.quantile(0.75)\n",
    "IQR = Q3 -Q1\n",
    "low_boundary= Q1 - 1.5*IQR\n",
    "high_boundary= Q3 + 1.5*IQR\n",
    "no_outliers= col2[~((col2 >high_boundary)|(col2<low_boundary)).any(axis=1)]\n",
    "print(\"low boundary:\\n\"  +  str(low_boundary)+\"\\n\")\n",
    "print(\"high_boundary:\\n\"  + str(high_boundary)+ \"\\n\")\n",
    "print(\"Q3:\\n\" + str(Q3)+ \"\\n\")\n",
    "print(\"Q1:\\n\" +str(Q1)+ \"\\n\")\n",
    "print(\"IQR:\\n\" +str(IQR)+ \"\\n\")\n",
    "no_outliers.describe()"
   ]
  },
  {
   "cell_type": "markdown",
   "id": "5ee00127",
   "metadata": {},
   "source": [
    "The standard deviation is lower after we removed the outliers using the IQR method\n",
    "but we still have to justify if the outliers  need to be removed\n",
    "For the order amount, any order greater than 723 was removed\n",
    "For the unit price, any item priced over 217 was removed\n",
    "For the total items, any order with more than 6 total items was removed\n",
    "\n",
    "So let's gain some insights around these orders"
   ]
  },
  {
   "cell_type": "code",
   "execution_count": 26,
   "id": "d01a0731",
   "metadata": {
    "scrolled": false
   },
   "outputs": [
    {
     "data": {
      "text/plain": [
       "Text(0.5, 1.0, 'Outliers removed using the IQR method')"
      ]
     },
     "execution_count": 26,
     "metadata": {},
     "output_type": "execute_result"
    },
    {
     "data": {
      "image/png": "[encoded data removed]",
      "text/plain": [
       "<Figure size 1440x720 with 1 Axes>"
      ]
     },
     "metadata": {
      "needs_background": "light"
     },
     "output_type": "display_data"
    }
   ],
   "source": [
    "df_outliers=col2[((col2 >high_boundary)|(col2<low_boundary)).any(axis=1)]\n",
    "df_outliers1=pd.merge(df_outliers,df,how='inner', left_on=['order_amount','total_items','Unit_Price'],right_on=['order_amount','total_items','Unit_Price'])\n",
    "df_outliers1['created_at']=pd.to_datetime(df_outliers1['created_at'])\n",
    "df_outliers1['time']=df_outliers1['created_at'].dt.time\n",
    "ax1=df_outliers1.plot.scatter(x='shop_id', y='order_amount')\n",
    "plt.title(\"Outliers removed using the IQR method\")"
   ]
  },
  {
   "cell_type": "markdown",
   "id": "bd33db32",
   "metadata": {},
   "source": [
    "There seems to be some low and high values betwen shop id_s 40 to 50. \n",
    "I will look into the top 10 order_amounts in this data set."
   ]
  },
  {
   "cell_type": "code",
   "execution_count": 223,
   "id": "ff5bdbba",
   "metadata": {},
   "outputs": [
    {
     "data": {
      "text/html": [
       "<div>\n",
       "<style scoped>\n",
       "    .dataframe tbody tr th:only-of-type {\n",
       "        vertical-align: middle;\n",
       "    }\n",
       "\n",
       "    .dataframe tbody tr th {\n",
       "        vertical-align: top;\n",
       "    }\n",
       "\n",
       "    .dataframe thead th {\n",
       "        text-align: right;\n",
       "    }\n",
       "</style>\n",
       "<table border=\"1\" class=\"dataframe\">\n",
       "  <thead>\n",
       "    <tr style=\"text-align: right;\">\n",
       "      <th></th>\n",
       "      <th>order_amount</th>\n",
       "      <th>total_items</th>\n",
       "      <th>Unit_Price</th>\n",
       "      <th>order_id</th>\n",
       "      <th>user_id</th>\n",
       "      <th>payment_method</th>\n",
       "      <th>created_at</th>\n",
       "      <th>time</th>\n",
       "    </tr>\n",
       "    <tr>\n",
       "      <th>shop_id</th>\n",
       "      <th></th>\n",
       "      <th></th>\n",
       "      <th></th>\n",
       "      <th></th>\n",
       "      <th></th>\n",
       "      <th></th>\n",
       "      <th></th>\n",
       "      <th></th>\n",
       "    </tr>\n",
       "  </thead>\n",
       "  <tbody>\n",
       "    <tr>\n",
       "      <th>42</th>\n",
       "      <td>1760</td>\n",
       "      <td>5</td>\n",
       "      <td>352.0</td>\n",
       "      <td>1365</td>\n",
       "      <td>797</td>\n",
       "      <td>cash</td>\n",
       "      <td>2017-03-10 06:28:21</td>\n",
       "      <td>06:28:21</td>\n",
       "    </tr>\n",
       "    <tr>\n",
       "      <th>42</th>\n",
       "      <td>1408</td>\n",
       "      <td>4</td>\n",
       "      <td>352.0</td>\n",
       "      <td>1368</td>\n",
       "      <td>926</td>\n",
       "      <td>cash</td>\n",
       "      <td>2017-03-13 02:38:34</td>\n",
       "      <td>02:38:34</td>\n",
       "    </tr>\n",
       "    <tr>\n",
       "      <th>42</th>\n",
       "      <td>1408</td>\n",
       "      <td>4</td>\n",
       "      <td>352.0</td>\n",
       "      <td>1472</td>\n",
       "      <td>907</td>\n",
       "      <td>debit</td>\n",
       "      <td>2017-03-12 23:00:22</td>\n",
       "      <td>23:00:22</td>\n",
       "    </tr>\n",
       "    <tr>\n",
       "      <th>42</th>\n",
       "      <td>1408</td>\n",
       "      <td>4</td>\n",
       "      <td>352.0</td>\n",
       "      <td>1368</td>\n",
       "      <td>926</td>\n",
       "      <td>cash</td>\n",
       "      <td>2017-03-13 02:38:34</td>\n",
       "      <td>02:38:34</td>\n",
       "    </tr>\n",
       "    <tr>\n",
       "      <th>42</th>\n",
       "      <td>1408</td>\n",
       "      <td>4</td>\n",
       "      <td>352.0</td>\n",
       "      <td>1472</td>\n",
       "      <td>907</td>\n",
       "      <td>debit</td>\n",
       "      <td>2017-03-12 23:00:22</td>\n",
       "      <td>23:00:22</td>\n",
       "    </tr>\n",
       "    <tr>\n",
       "      <th>43</th>\n",
       "      <td>1086</td>\n",
       "      <td>6</td>\n",
       "      <td>181.0</td>\n",
       "      <td>3539</td>\n",
       "      <td>830</td>\n",
       "      <td>debit</td>\n",
       "      <td>2017-03-17 19:56:29</td>\n",
       "      <td>19:56:29</td>\n",
       "    </tr>\n",
       "    <tr>\n",
       "      <th>54</th>\n",
       "      <td>1064</td>\n",
       "      <td>8</td>\n",
       "      <td>133.0</td>\n",
       "      <td>4142</td>\n",
       "      <td>733</td>\n",
       "      <td>debit</td>\n",
       "      <td>2017-03-07 17:05:18</td>\n",
       "      <td>17:05:18</td>\n",
       "    </tr>\n",
       "    <tr>\n",
       "      <th>42</th>\n",
       "      <td>1056</td>\n",
       "      <td>3</td>\n",
       "      <td>352.0</td>\n",
       "      <td>2988</td>\n",
       "      <td>819</td>\n",
       "      <td>cash</td>\n",
       "      <td>2017-03-03 09:09:25</td>\n",
       "      <td>09:09:25</td>\n",
       "    </tr>\n",
       "    <tr>\n",
       "      <th>42</th>\n",
       "      <td>1056</td>\n",
       "      <td>3</td>\n",
       "      <td>352.0</td>\n",
       "      <td>939</td>\n",
       "      <td>808</td>\n",
       "      <td>credit_card</td>\n",
       "      <td>2017-03-13 23:43:45</td>\n",
       "      <td>23:43:45</td>\n",
       "    </tr>\n",
       "    <tr>\n",
       "      <th>42</th>\n",
       "      <td>1056</td>\n",
       "      <td>3</td>\n",
       "      <td>352.0</td>\n",
       "      <td>3514</td>\n",
       "      <td>726</td>\n",
       "      <td>debit</td>\n",
       "      <td>2017-03-24 17:51:05</td>\n",
       "      <td>17:51:05</td>\n",
       "    </tr>\n",
       "  </tbody>\n",
       "</table>\n",
       "</div>"
      ],
      "text/plain": [
       "         order_amount  total_items  Unit_Price  order_id  user_id  \\\n",
       "shop_id                                                             \n",
       "42               1760            5       352.0      1365      797   \n",
       "42               1408            4       352.0      1368      926   \n",
       "42               1408            4       352.0      1472      907   \n",
       "42               1408            4       352.0      1368      926   \n",
       "42               1408            4       352.0      1472      907   \n",
       "43               1086            6       181.0      3539      830   \n",
       "54               1064            8       133.0      4142      733   \n",
       "42               1056            3       352.0      2988      819   \n",
       "42               1056            3       352.0       939      808   \n",
       "42               1056            3       352.0      3514      726   \n",
       "\n",
       "        payment_method          created_at      time  \n",
       "shop_id                                               \n",
       "42                cash 2017-03-10 06:28:21  06:28:21  \n",
       "42                cash 2017-03-13 02:38:34  02:38:34  \n",
       "42               debit 2017-03-12 23:00:22  23:00:22  \n",
       "42                cash 2017-03-13 02:38:34  02:38:34  \n",
       "42               debit 2017-03-12 23:00:22  23:00:22  \n",
       "43               debit 2017-03-17 19:56:29  19:56:29  \n",
       "54               debit 2017-03-07 17:05:18  17:05:18  \n",
       "42                cash 2017-03-03 09:09:25  09:09:25  \n",
       "42         credit_card 2017-03-13 23:43:45  23:43:45  \n",
       "42               debit 2017-03-24 17:51:05  17:51:05  "
      ]
     },
     "execution_count": 223,
     "metadata": {},
     "output_type": "execute_result"
    }
   ],
   "source": [
    "df_outliers1.sort_values('order_amount', ascending=False).set_index('shop_id').head(10)"
   ]
  },
  {
   "cell_type": "markdown",
   "id": "6f4b180e",
   "metadata": {},
   "source": [
    "There are about 5 orders above 1400 and they are from store 42.\n",
    "The unit price in the store is 352 so that explains the low data pointon the graph as well.\n",
    "and it seems this practice had some high volume sales between the 10th to the 13th of March.\n",
    "Maybe the store had a sale or promotion going on. We will need more data around the store's marketing and discounts\n",
    "to be able to know why there are more items in those orders.\n",
    "\n",
    "The orders also happened at similar times of the day. Two orders happened at 23:00:22 and another 2 orders at 02:38:34.\n",
    "This could be useful for the Shopify's facebook Ads team.    \n",
    "\n",
    "Store 54 had a sale that had 8 items. Because this only happened once,I would flag this order as an outlier."
   ]
  },
  {
   "cell_type": "markdown",
   "id": "62f21ba1",
   "metadata": {},
   "source": [
    "# Q2: I would report the median for the data without outliers.The median is less sensitive to outliers and can be used to show the middle number for the revenue from a Shopify sneaker sale. If there are no outliers like high quantity orders or sneakers that have a high unit price data set,the median would be the same as the mean. Here the mean is higher than the median."
   ]
  },
  {
   "cell_type": "code",
   "execution_count": 27,
   "id": "ac904672",
   "metadata": {},
   "outputs": [
    {
     "data": {
      "text/plain": [
       "Text(0, 0.5, 'Value')"
      ]
     },
     "execution_count": 27,
     "metadata": {},
     "output_type": "execute_result"
    },
    {
     "data": {
      "image/png": "[encoded data removed]",
      "text/plain": [
       "<Figure size 1440x720 with 1 Axes>"
      ]
     },
     "metadata": {
      "needs_background": "light"
     },
     "output_type": "display_data"
    }
   ],
   "source": [
    "no_outliers.plot.box()\n",
    "plt.title(\"Box plot of the data without the IQR outliers\")\n",
    "plt.xlabel(\"columns\")\n",
    "plt.ylabel(\"Value\")"
   ]
  },
  {
   "cell_type": "markdown",
   "id": "210c36b7",
   "metadata": {},
   "source": [
    "# Q3: To get this number, i would use describe() as i showed earlier on in this document. The median is the 50% value.\n",
    "    "
   ]
  },
  {
   "cell_type": "code",
   "execution_count": 230,
   "id": "115c37a1",
   "metadata": {},
   "outputs": [
    {
     "data": {
      "text/plain": [
       "count    4826.000000\n",
       "mean      291.981765\n",
       "std       142.650885\n",
       "min        90.000000\n",
       "25%       162.000000\n",
       "50%       280.000000\n",
       "75%       379.000000\n",
       "max       712.000000\n",
       "Name: order_amount, dtype: float64"
      ]
     },
     "execution_count": 230,
     "metadata": {},
     "output_type": "execute_result"
    }
   ],
   "source": [
    "    no_outliers['order_amount'].describe()"
   ]
  },
  {
   "cell_type": "markdown",
   "id": "da280896",
   "metadata": {},
   "source": [
    "The median for the order_amount is 280"
   ]
  },
  {
   "cell_type": "markdown",
   "id": "3c4ac1d4",
   "metadata": {
    "collapsed": true
   },
   "source": [
    "If you have any questions, please feel free to message me on my LinkedIn provided in my Resume\n",
    "which is attached to my application as well"
   ]
  },
  {
   "cell_type": "code",
   "execution_count": null,
   "id": "4a8c3548",
   "metadata": {},
   "outputs": [],
   "source": []
  }
 ],
 "metadata": {
  "kernelspec": {
   "display_name": "Python 3",
   "language": "python",
   "name": "python3"
  },
  "language_info": {
   "codemirror_mode": {
    "name": "ipython",
    "version": 3
   },
   "file_extension": ".py",
   "mimetype": "text/x-python",
   "name": "python",
   "nbconvert_exporter": "python",
   "pygments_lexer": "ipython3",
   "version": "3.8.8"
  }
 },
 "nbformat": 4,
 "nbformat_minor": 5
}
